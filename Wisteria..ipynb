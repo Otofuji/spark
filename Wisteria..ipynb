﻿{
  "metadata": {
    "name": "Note converted from Jupyter_2GQJ76FR5",
    "kernelspec": {
      "language": "scala",
      "name": "spark2-scala"
    },
    "language_info": {
      "codemirror_mode": "text/x-scala",
      "file_extension": ".scala",
      "mimetype": "text/x-scala",
      "name": "scala",
      "pygments_lexer": "scala"
    }
  },
  "nbformat": 4,
  "nbformat_minor": 2,
  "cells": [
    {
      "cell_type": "code",
      "execution_count": 0,
      "metadata": {
        "autoscroll": "auto"
      },
      "outputs": [],
      "source": "%python\n\n1 + 1"
    },
    {
      "cell_type": "code",
      "execution_count": 1,
      "metadata": {
        "autoscroll": "auto"
      },
      "outputs": [],
      "source": "\n%pyspark\n#Carrega dataset já limpo\nrdd \u003d sc.textFile(\"s3://megadados-alunos/dados/all_reviews_clean_tsv\")\nrdd \u003d rdd.cache()"
    },
    {
      "cell_type": "code",
      "execution_count": 2,
      "metadata": {
        "autoscroll": "auto"
      },
      "outputs": [],
      "source": "\n%pyspark\n#Conta quantas reviews tem\nrdd.count()"
    },
    {
      "cell_type": "code",
      "execution_count": 3,
      "metadata": {
        "autoscroll": "auto"
      },
      "outputs": [],
      "source": "%pyspark\n#Exemplo\nresult \u003d rdd \\\n    .map(lambda x: x.split(\u0027\\t\u0027)) \\\n    .cache()"
    },
    {
      "cell_type": "code",
      "execution_count": 4,
      "metadata": {
        "autoscroll": "auto"
      },
      "outputs": [],
      "source": "%pyspark\n#Conta quantos clientes tem\nrdd_clients \u003d rdd \\\n    .map(lambda x: x.split(\"\\t\")) \\\n    .map(lambda x: (x[1], 1)) \\\n    .reduceByKey(lambda x, y: x + y) \\\n    .cache()"
    },
    {
      "cell_type": "code",
      "execution_count": 5,
      "metadata": {
        "autoscroll": "auto"
      },
      "outputs": [],
      "source": "%pyspark\n#Mostra quantos clientes tem\nrdd_clients.count()"
    },
    {
      "cell_type": "code",
      "execution_count": 6,
      "metadata": {
        "autoscroll": "auto"
      },
      "outputs": [],
      "source": "%pyspark\n#Conta quantos produtos tem\nrdd_products \u003d rdd \\\n    .map(lambda x: x.split(\"\\t\")) \\\n    .map(lambda x: (x[5], 1)) \\\n    .reduceByKey(lambda x, y: x + y) \\\n    .cache()"
    },
    {
      "cell_type": "code",
      "execution_count": 7,
      "metadata": {
        "autoscroll": "auto"
      },
      "outputs": [],
      "source": "%pyspark\n#Mostra quantos produtos tem\nrdd_products.count()"
    },
    {
      "cell_type": "code",
      "execution_count": 8,
      "metadata": {
        "autoscroll": "auto"
      },
      "outputs": [],
      "source": "%pyspark\n#Teste\nrdd.take(1)"
    },
    {
      "cell_type": "code",
      "execution_count": 9,
      "metadata": {
        "autoscroll": "auto"
      },
      "outputs": [],
      "source": "%pyspark\n#Conta quantas avaliações tem por cada avaliação de estrelas\nrdd_5 \u003d rdd \\\n    .map(lambda x: x.split(\"\\t\")) \\\n    .map(lambda x: (x[7], 1)) \\\n    .reduceByKey(lambda x, y: x + y) \\\n    .cache()"
    },
    {
      "cell_type": "code",
      "execution_count": 10,
      "metadata": {
        "autoscroll": "auto"
      },
      "outputs": [],
      "source": "%pyspark\n#Mostra contagem de avaliações por star rating. Número maior que 5 para verificar se existe lixo na contagem. Tendo somente cinco, então está limpo, o que significa que os números estão corretos.\nrdd_5.take(10)"
    },
    {
      "cell_type": "code",
      "execution_count": 11,
      "metadata": {
        "autoscroll": "auto"
      },
      "outputs": [],
      "source": "%pyspark\n#Verifica top 10 produtos avaliados por clientes que apenas avaliaram uma vez\nrdd_top10 \u003d rdd \\\n    .map(lambda x: x.split(\"\\t\")) "
    },
    {
      "cell_type": "code",
      "execution_count": 12,
      "metadata": {
        "autoscroll": "auto"
      },
      "outputs": [],
      "source": "%pyspark\n#verifica por bots\nrdd_clients.takeOrdered(2, lambda x: -x[1])"
    },
    {
      "cell_type": "code",
      "execution_count": 13,
      "metadata": {
        "autoscroll": "auto"
      },
      "outputs": [],
      "source": "\n%pyspark\n#Cria dataframe\ndf \u003d spark.read.option(\"header\", \"false\") \\\n    .option(\"delimiter\", \"\\t\") \\\n    .option(\"inferSchema\", \"true\") \\\n    .csv(\"s3://megadados-alunos/dados/all_reviews_clean_tsv\") \\\n    .withColumnRenamed(\"_c0\", \"marketplace\") \\\n    .withColumnRenamed(\"_c1\", \"customer_id\") \\\n    .withColumnRenamed(\"_c2\", \"review_id\") \\\n    .withColumnRenamed(\"_c3\", \"product_id\") \\\n    .withColumnRenamed(\"_c4\", \"product_parent\") \\\n    .withColumnRenamed(\"_c5\", \"product_title\") \\\n    .withColumnRenamed(\"_c6\", \"product_category\") \\\n    .withColumnRenamed(\"_c7\", \"star_rating\") \\\n    .withColumnRenamed(\"_c8\", \"helpful_votes\") \\\n    .withColumnRenamed(\"_c9\", \"total_votes\") \\\n    .withColumnRenamed(\"_c10\", \"vine\") \\\n    .withColumnRenamed(\"_c11\", \"verified_purchase\") \\\n    .withColumnRenamed(\"_c12\", \"review_headline\") \\\n    .withColumnRenamed(\"_c13\", \"review_body\") \\\n    .withColumnRenamed(\"_c14\", \"review_date\") \\\n"
    },
    {
      "cell_type": "code",
      "execution_count": 14,
      "metadata": {
        "autoscroll": "auto"
      },
      "outputs": [],
      "source": "%pyspark\nunique_customers \u003d df.select(\"customer_id\").distinct()"
    },
    {
      "cell_type": "code",
      "execution_count": 15,
      "metadata": {
        "autoscroll": "auto"
      },
      "outputs": [],
      "source": "%pyspark\nunique_customers_count \u003d unique_customers.count()\nunique_customers_count"
    },
    {
      "cell_type": "code",
      "execution_count": 16,
      "metadata": {
        "autoscroll": "auto"
      },
      "outputs": [],
      "source": "%pyspark\none_unique_customer \u003d unique_customers.take(1)"
    },
    {
      "cell_type": "code",
      "execution_count": 17,
      "metadata": {
        "autoscroll": "auto"
      },
      "outputs": [],
      "source": "%pyspark\ncheck_customer \u003d df.filter(df.customer_id \u003d\u003d \"52705992\")\ncheck_customer.show()"
    },
    {
      "cell_type": "code",
      "execution_count": 18,
      "metadata": {
        "autoscroll": "auto"
      },
      "outputs": [],
      "source": "%pyspark\n####| COLUNA DE DEBUGGING, PODE DELETAR DEPOIS DE ENTENDER OQ FOI FEITO AQUI|####\ndf1 \u003d df.groupBy(\"customer_id\").count()\ndf1.show()"
    },
    {
      "cell_type": "code",
      "execution_count": 19,
      "metadata": {
        "autoscroll": "auto"
      },
      "outputs": [],
      "source": "%pyspark\n####| COLUNA DE DEBUGGING, PODE DELETAR DEPOIS DE ENTENDER OQ FOI FEITO AQUI|####\ndf2 \u003d df1.orderBy(\"count\", ascending\u003dFalse)\ndf2.show()"
    },
    {
      "cell_type": "code",
      "execution_count": 20,
      "metadata": {
        "autoscroll": "auto"
      },
      "outputs": [],
      "source": "%pyspark\n####| COLUNA DE DEBUGGING, PODE DELETAR DEPOIS DE ENTENDER OQ FOI FEITO AQUI|####\ndf3 \u003d df2.filter(df.customer_id \u003d\u003d \"52705992\")\ndf3.show()"
    },
    {
      "cell_type": "code",
      "execution_count": 21,
      "metadata": {
        "autoscroll": "auto"
      },
      "outputs": [],
      "source": "\n%pyspark\n#Procura por robôs, definido como clientes com mais que 500 avaliações\ndf1 \u003d df.groupBy(\"customer_id\").count()\ndf2 \u003d df1.orderBy(\"count\", ascending\u003dFalse)\ndf3 \u003d df2.withColumnRenamed(\"count\", \"review_count\")\ndf4 \u003d df3.filter(df3.review_count \u003e\u003d \"500\")\ndf4.show()\nprint(\"Temos {0} bots em {1} usuarios!\".format(df4.count(), df1.count()))"
    },
    {
      "cell_type": "code",
      "execution_count": 22,
      "metadata": {
        "autoscroll": "auto"
      },
      "outputs": [],
      "source": "%pyspark\n####| COLUNA DE DEBUGGING, PODE DELETAR DEPOIS DE ENTENDER OQ FOI FEITO AQUI|####\ndf4 \u003d df3.filter(df3.review_count \u003e\u003d \"500\")\ndf4.show()"
    },
    {
      "cell_type": "code",
      "execution_count": 23,
      "metadata": {
        "autoscroll": "auto"
      },
      "outputs": [],
      "source": "%pyspark\n####| COLUNA DE DEBUGGING, PODE DELETAR DEPOIS DE ENTENDER OQ FOI FEITO AQUI|####\ndf4.count()"
    },
    {
      "cell_type": "raw",
      "metadata": {
        "format": "text/plain"
      },
      "source": "%pyspark\n"
    }
  ]
}